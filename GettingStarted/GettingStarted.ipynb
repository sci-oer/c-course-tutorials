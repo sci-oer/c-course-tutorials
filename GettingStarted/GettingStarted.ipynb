{
 "cells": [
  {
   "cell_type": "markdown",
   "metadata": {},
   "source": [
    "# Creating the File Structure via the Terminal\n",
    "\n",
    "To get familiar with the terminal we're going to construct the folder structure we discussed earlier.\n",
    "We will create a directory (also called \"folder\") called <GroundRulesPractice>\n",
    "Inside that directory you should have:\n",
    "* src\n",
    "* inc\n",
    "* bin\n",
    "* doc\n",
    "\n",
    "The Directory structure will look like this\n",
    "\n",
    "* GroundRulesPractice\n",
    "  * src\n",
    "  * inc\n",
    "  * bin\n",
    "  * doc "
   ]
  },
  {
   "cell_type": "code",
   "execution_count": null,
   "metadata": {
    "vscode": {
     "languageId": "shellscript"
    }
   },
   "outputs": [],
   "source": [
    "# mkdir is a command that Makes a Directory => mkdir <name of dir>\n",
    "mkdir GroundRulesPractice\n",
    "\n",
    "# ls is a command that lists all of the files in a directory\n",
    "# it should show us the new GroundRulesPractice directory\n",
    "ls\n",
    "\n",
    "# Now we're going to change directories from where we started, into  GroundRules Practices\n",
    "cd GroundRulesPractice\n",
    "\n",
    "# if you ls from here, you'll see nothing because we haven't created any directories here\n",
    "ls\n",
    "\n"
   ]
  },
  {
   "cell_type": "code",
   "execution_count": null,
   "metadata": {
    "vscode": {
     "languageId": "shellscript"
    }
   },
   "outputs": [],
   "source": [
    "# now we'll use mkdir again to create the directories\n",
    "mkdir src inc bin doc\n",
    "\n",
    "# lastly, we'll ls one more time to see that they were all created successfully\n",
    "ls"
   ]
  }
 ],
 "metadata": {
  "interpreter": {
   "hash": "ba5b56f04adec64fa7335ea05568c200cf433e7eb62a2c99166a8dce55f6850a"
  },
  "kernelspec": {
   "display_name": "Bash",
   "language": "bash",
   "name": "bash"
  },
  "language_info": {
   "codemirror_mode": "shell",
   "file_extension": ".sh",
   "mimetype": "text/x-sh",
   "name": "bash"
  }
 },
 "nbformat": 4,
 "nbformat_minor": 2
}
