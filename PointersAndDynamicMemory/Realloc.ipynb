{
 "cells": [
  {
   "cell_type": "markdown",
   "metadata": {},
   "source": [
    "# Realloc\n",
    "\n",
    "Sometimes you don't know exactly how much memory you're going to need when you malloc a pointer.\n",
    "Realloc is the function we use to fix that problem at runtime. \n",
    "\n",
    "To show off realloc we're going to:\n",
    "* Do one example where we run out of space and try to use memory we didn't alloc for\n",
    "* Show how we can use realloc to fix that problem"
   ]
  },
  {
   "cell_type": "code",
   "execution_count": 11,
   "metadata": {},
   "outputs": [
    {
     "name": "stdout",
     "output_type": "stream",
     "text": [
      "bob[0]: 0\n",
      "bob[1]: 1\n",
      "bob[2]: 2\n",
      "bob[3]: 3\n",
      "bob[4]: 4\n",
      "bob[5]: 5\n",
      "\n",
      "bob[0]: 0\n",
      "bob[1]: 1\n",
      "bob[2]: 2\n",
      "bob[3]: 3\n",
      "bob[4]: 4\n",
      "bob[5]: 5\n"
     ]
    }
   ],
   "source": [
    "#include <stdio.h>\n",
    "#include <stdlib.h>\n",
    "#include <string.h>\n",
    "\n",
    "#define NOT_ENOUGH_SPACE 5\n",
    "#define TOO_MUCH 6\n",
    "#define RIGHT_AMOUNT 6\n",
    "\n",
    "int main(){\n",
    "    // let's start by mallocing bob as a pointer to some 5 integers\n",
    "\n",
    "    int * bob = malloc(sizeof(int) * NOT_ENOUGH_SPACE);\n",
    "\n",
    "    for(int i = 0; i < TOO_MUCH; i++){\n",
    "        bob[i] = i;\n",
    "        printf(\"bob[%d]: %d\\n\", i,i);\n",
    "    }\n",
    "\n",
    "    // so here's a quirk of C\n",
    "    // it prints just fine, and you may think everything is okay\n",
    "    // but you don't own index 5, you only asked for 5 total spots (that would be index 4)\n",
    "    // so that memory was written to incorrectly, and can be overwritten by the computer at any point\n",
    "\n",
    "    printf(\"\\n\");\n",
    "\n",
    "    // Let's fix that with a realloc\n",
    "    // the two arguments we need are the pointer we're reallocing and the size of the memory\n",
    "    // realloc returns a pointer, it will return null if something goes wrong\n",
    "    bob = realloc(bob, sizeof(int) * RIGHT_AMOUNT);\n",
    "\n",
    "    for(int i = 0; i < TOO_MUCH; i++){\n",
    "        bob[i] = i;\n",
    "        printf(\"bob[%d]: %d\\n\", i,i);\n",
    "    }\n",
    "}"
   ]
  }
 ],
 "metadata": {
  "kernelspec": {
   "display_name": "C",
   "language": "c",
   "name": "c"
  },
  "language_info": {
   "file_extension": ".c",
   "mimetype": "text/plain",
   "name": "c"
  },
  "orig_nbformat": 4
 },
 "nbformat": 4,
 "nbformat_minor": 2
}
