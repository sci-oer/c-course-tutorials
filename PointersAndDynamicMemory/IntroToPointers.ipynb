{
 "cells": [
  {
   "cell_type": "markdown",
   "metadata": {},
   "source": [
    "# Intro to Pointers\n",
    "\n",
    "Here we're going to play around with some pointers to see how they're a little different from the variables you've worked with so far.\n",
    "\n",
    "We will be:\n",
    "* Creating a pointer\n",
    "* assigning that pointer the address of some integer variable\n",
    "* printing the pointer as a pointer\n",
    "* dereferencing that pointer\n",
    "* and printing its value"
   ]
  },
  {
   "cell_type": "code",
   "execution_count": 8,
   "metadata": {},
   "outputs": [
    {
     "name": "stdout",
     "output_type": "stream",
     "text": [
      "Frank's Adress: 0x16d0db2fc\n",
      "Frank's Value: 5\n",
      "\n",
      "Bob's Regular State: 0x16d0db2fc\n",
      "Bob dereferenced: 5\n"
     ]
    }
   ],
   "source": [
    "// As with most C files, we're going to include our 3 best friends\n",
    "#include <stdio.h>\n",
    "#include <stdlib.h>\n",
    "#include <string.h>\n",
    "\n",
    "\n",
    "int main(){\n",
    "    /*\n",
    "    * here we're creating a pointer named bob\n",
    "    * bob is a pointer that points to an integer\n",
    "    */\n",
    "    int * bob;\n",
    "\n",
    "    // We'll also create a regular integer called frank\n",
    "    int frank = 5;\n",
    "\n",
    "    // by using &, we're getting the address of frank, instead of his value\n",
    "    // let's look at the difference\n",
    "    printf(\"Frank's Adress: %p\\nFrank's Value: %d\\n\\n\", &frank, frank);\n",
    "\n",
    "    // here we assign bob the address of Frank\n",
    "    // recall that bob is a pointer, which means he stores an address\n",
    "    bob = &frank;\n",
    "\n",
    "    // let's take a look at how that differs\n",
    "    printf(\"Bob's Regular State: %p\\nBob dereferenced: %d\\n\", bob, *bob);\n",
    "\n",
    "    //notice how Bob stores Frank's address and how when we dereference bob, we get the value at that address\n",
    "    \n",
    "\n",
    "    return 0;\n",
    "}"
   ]
  }
 ],
 "metadata": {
  "kernelspec": {
   "display_name": "C",
   "language": "c",
   "name": "c"
  },
  "language_info": {
   "file_extension": ".c",
   "mimetype": "text/plain",
   "name": "c"
  },
  "orig_nbformat": 4
 },
 "nbformat": 4,
 "nbformat_minor": 2
}
