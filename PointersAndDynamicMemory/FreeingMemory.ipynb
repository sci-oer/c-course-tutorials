{
 "cells": [
  {
   "cell_type": "markdown",
   "metadata": {},
   "source": [
    "# Freeing Memory\n",
    "\n",
    "Whenever you ask the computer for memory by using malloc, you need to give it back to the computer too.\n",
    "The computer will not take that memory back on its own.\n",
    "To do that we use the \"free\" function.\n",
    "\n",
    "Here we will:\n",
    "* Free a single pointer\n",
    "* Free a 2D pointer\n"
   ]
  },
  {
   "cell_type": "markdown",
   "metadata": {},
   "source": [
    "## Freeing a 1D pointer"
   ]
  },
  {
   "cell_type": "code",
   "execution_count": 7,
   "metadata": {},
   "outputs": [
    {
     "name": "stdout",
     "output_type": "stream",
     "text": [
      "bob: 0x12f604290\n",
      "bob after being freed: 0x12f604290\n",
      "bob[3]: 1\n",
      "frank[0][0]: 2\n",
      "frank[0][0]: 187220016\n"
     ]
    },
    {
     "name": "stderr",
     "output_type": "stream",
     "text": [
      "[C kernel] Executable exited with code -11"
     ]
    }
   ],
   "source": [
    "#include <stdlib.h>\n",
    "#include <stdio.h>\n",
    "#include <string.h>\n",
    "\n",
    "int main(){\n",
    "    // let's start by mallocing for our good friend bob\n",
    "    int * bob = malloc(sizeof(int) * 5);\n",
    "    // we get an address for bob after mallocing as usual\n",
    "    printf(\"bob: %p\\n\", bob);\n",
    "    // and we can assign values to bob's indices as usual\n",
    "    bob[0] = 1;\n",
    "\n",
    "    // now let's say we're done with bob and want to return that memory\n",
    "    free(bob);\n",
    "    printf(\"bob after being freed: %p\\n\", bob);\n",
    "\n",
    "    // so we freed it, but bob still holds the address ...\n",
    "    // Watch out for that! You don't have the RIGHT to that memory anymore\n",
    "    // if you try to use pointers that you've already freed, \n",
    "    // it may work for a little while, but eventually it'll break\n",
    "    // C is weird that way.\n",
    "}"
   ]
  },
  {
   "cell_type": "markdown",
   "metadata": {},
   "source": [
    "## Freeing a 2D array"
   ]
  },
  {
   "cell_type": "code",
   "execution_count": null,
   "metadata": {},
   "outputs": [],
   "source": [
    "\n",
    "#include <stdlib.h>\n",
    "#include <stdio.h>\n",
    "#include <string.h>\n",
    "\n",
    "#define NUM_INT_POINTERS 5\n",
    "#define NUM_INTS 5\n",
    "\n",
    "int main(){\n",
    "    // let's start by mallocing for our good friend bob as a 2D array like we did last time\n",
    "    \n",
    "    // first we malloc for the number of pointers we want (how many rows)\n",
    "    int ** bob = malloc(sizeof(int*) * NUM_INT_POINTERS);\n",
    "\n",
    "    // then we malloc the number of columns \n",
    "    for (int i = 0; i < NUM_INT_POINTERS; i++){\n",
    "        bob[i] = malloc(sizeof(int) * NUM_INTS);\n",
    "    }\n",
    "\n",
    "    // To free this, we have to reverse the process.\n",
    "    // We free from the inside out.\n",
    "\n",
    "    for (int i = 0; i < NUM_INT_POINTERS; i++){\n",
    "        free(bob[i]);\n",
    "    }\n",
    "\n",
    "    // then we can free bob \n",
    "    free(bob);\n",
    "\n",
    "}"
   ]
  },
  {
   "cell_type": "markdown",
   "metadata": {},
   "source": [
    "## What happens when you free a 2D array the wrong way"
   ]
  },
  {
   "cell_type": "code",
   "execution_count": 9,
   "metadata": {},
   "outputs": [
    {
     "name": "stderr",
     "output_type": "stream",
     "text": [
      "[C kernel] Executable exited with code -6"
     ]
    }
   ],
   "source": [
    "\n",
    "#include <stdlib.h>\n",
    "#include <stdio.h>\n",
    "#include <string.h>\n",
    "\n",
    "#define NUM_INT_POINTERS 5\n",
    "#define NUM_INTS 5\n",
    "\n",
    "int main(){\n",
    "    // let's start by mallocing for our good friend bob as a 2D array like we did last time\n",
    "    \n",
    "    // first we malloc for the number of pointers we want (how many rows)\n",
    "    int ** bob = malloc(sizeof(int*) * NUM_INT_POINTERS);\n",
    "\n",
    "    // then we malloc the number of columns \n",
    "    for (int i = 0; i < NUM_INT_POINTERS; i++){\n",
    "        bob[i] = malloc(sizeof(int) * NUM_INTS);\n",
    "    }\n",
    "\n",
    "    // Now let's free this backwards\n",
    "    free(bob);\n",
    "\n",
    "    // so we gave up our right to the memory bob was malloc'd\n",
    "    // what that means is we shouldn't have access to all the pointers inside it\n",
    "    // what happens when we try to free them despite no longer having access?\n",
    "    for (int i = 0; i < NUM_INT_POINTERS; i++){\n",
    "        free(bob[i]);\n",
    "    }\n",
    "\n",
    "    // we get a nasty error\n",
    "\n",
    "}"
   ]
  },
  {
   "cell_type": "markdown",
   "metadata": {},
   "source": [
    "## What Happens when we try to use Memory after we Free it?"
   ]
  },
  {
   "cell_type": "code",
   "execution_count": 10,
   "metadata": {},
   "outputs": [
    {
     "name": "stdout",
     "output_type": "stream",
     "text": [
      "frank[0][0]: 2\n",
      "frank[0][0]: 1361887280\n"
     ]
    },
    {
     "name": "stderr",
     "output_type": "stream",
     "text": [
      "[C kernel] Executable exited with code -11"
     ]
    }
   ],
   "source": [
    "#include <stdlib.h>\n",
    "#include <stdio.h>\n",
    "#include <string.h>\n",
    "\n",
    "int main(){\n",
    "\n",
    "    // here we're going to make frank a 2D pointer\n",
    "\n",
    "    // We start with frank holding 2 int pointers\n",
    "    int ** frank = malloc(sizeof(int *) * 2);\n",
    "    // then we malloc frank at index 0 for a pointer big enough for 2 integers\n",
    "    frank[0] = malloc(sizeof(int) * 2);\n",
    "\n",
    "    // let's get frank's 0th pointer a value of 2 at index 0\n",
    "    frank[0][0] = 2;\n",
    "    printf(\"frank[0][0]: %d\\n\", frank[0][0]);\n",
    "\n",
    "    // okay let's free frank[0] now\n",
    "    free(frank[0]);\n",
    "    // what happens when we print the memory after we gave it back to the computer?\n",
    "    printf(\"frank[0][0]: %d\\n\", frank[0][0]);\n",
    "\n",
    "    // turns out, frank[0] still has holds the address, that could change at any point though\n",
    "    // So we call this undefined behaviour. We're not sure what it will do.\n",
    "    // You don't want undefined behaviour in your program.\n",
    "\n",
    "\n",
    "    // let's take that one step further and free frank, the pointer to the int pointers\n",
    "    free(frank);\n",
    "    // now let's try that print again.\n",
    "    printf(\"frank[0][0]: %d\\n\", frank[0][0]);\n",
    "\n",
    "    // at this point the computer has used that memory for something else\n",
    "    // so we get whatever memory is at that location, interpreted as an integer\n",
    "    // then we get an error cause we shouldn't have tried to access that in the first place\n",
    "\n",
    "}"
   ]
  }
 ],
 "metadata": {
  "kernelspec": {
   "display_name": "C",
   "language": "c",
   "name": "c"
  },
  "language_info": {
   "file_extension": ".c",
   "mimetype": "text/plain",
   "name": "c"
  },
  "orig_nbformat": 4
 },
 "nbformat": 4,
 "nbformat_minor": 2
}
