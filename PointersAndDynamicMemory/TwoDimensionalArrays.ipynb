{
 "cells": [
  {
   "cell_type": "markdown",
   "metadata": {},
   "source": [
    "# Mallocing Two Dimensional Pointers\n",
    "\n",
    "In this tutorial we're going to walk through the process for mallocing 2 dimensional pointers/arrays\n",
    "What you'll see is a nested mallocing process:\n",
    "* First we malloc a pointer to a series of pointers\n",
    "* Then we'll malloc each pointer within it in a for loop\n",
    "* Next, we'll assign some values to those pointers\n",
    "\n",
    "Fair warning, this is going to feel confusing at first. That's okay. We'll walk through each step."
   ]
  },
  {
   "cell_type": "code",
   "execution_count": 5,
   "metadata": {},
   "outputs": [
    {
     "name": "stdout",
     "output_type": "stream",
     "text": [
      "Bob's Address: 0x600002578020\n",
      "bob[0]: 0x600002578030\n",
      "bob[1]: 0x600002578040\n",
      "\n",
      "Bob[0]: \n",
      "0\n",
      "1\n",
      "2\n",
      "3\n",
      "4\n",
      "\n",
      "Bob[1]: \n",
      "0\n",
      "1\n",
      "2\n",
      "3\n",
      "4\n",
      "\n"
     ]
    }
   ],
   "source": [
    "#include <stdio.h>\n",
    "#include <stdlib.h>\n",
    "#include <string.h>\n",
    "\n",
    "int main(){\n",
    "    // Let's start with our old friend Bob, and make him a double pointer\n",
    "    // notice how there's two '*'s. This means we have a pointer, to some int pointers\n",
    "    // we'll make that make sense shortly\n",
    "    int ** bob;\n",
    "\n",
    "    // Now we're going to malloc room for 5 integer pointers \n",
    "\n",
    "    bob = malloc(sizeof(int * ) * 2);\n",
    "\n",
    "    // See how this time we use sizeof(int *)?\n",
    "    // So instead of asking for enough memory for 5 integers, \n",
    "    // we're asking for enough memory for 2 integer POINTERS\n",
    "\n",
    "    printf(\"Bob's Address: %p\\n\", bob);\n",
    "\n",
    "    // By printing Bob, we can see malloc has given us an address. Bob himself is a pointer.\n",
    "\n",
    "    //Now we have to malloc room for each of the integer pointers Bob contains\n",
    "    for(int i = 0; i < 2; i++){\n",
    "        // notice two things:\n",
    "            // first, we're accessing bob like an array. We can think of bob as an array of pointers or an array of arrays\n",
    "            // second, we're now mallocing with sizeof(int) because each pointer points to integers\n",
    "        bob[i] = malloc(sizeof(int) * 2);\n",
    "        // We can also see if we print bob at i, aftter mallocing we get an address\n",
    "        printf(\"bob[%d]: %p\\n\", i, bob[i]);\n",
    "\n",
    "        // when we print the address of each of those pointers,\n",
    "        // we notice that they're all side by side in memory just like the integers were.\n",
    "    }\n",
    "\n",
    "    printf(\"\\n\");\n",
    "\n",
    "    // okay, now let's assign some integers to each of bob's pointers\n",
    "    for(int i = 0; i < 2; i++){\n",
    "        // we'll show how each index of bob is a pointer full of integers\n",
    "        printf(\"Bob[%d]: \\n\", i);\n",
    "        for(int j = 0; j< 5; j++){\n",
    "            // here we're treating bob like a 2D array\n",
    "            // we assign bob at index i, the integer value j\n",
    "            bob[i][j] = j;\n",
    "            // then we print it to show it off to you\n",
    "            printf(\"%d\\n\", bob[i][j]);\n",
    "        }\n",
    "        printf(\"\\n\");\n",
    "    }\n",
    "\n",
    "    \n",
    "}"
   ]
  }
 ],
 "metadata": {
  "interpreter": {
   "hash": "ba5b56f04adec64fa7335ea05568c200cf433e7eb62a2c99166a8dce55f6850a"
  },
  "kernelspec": {
   "display_name": "C",
   "language": "c",
   "name": "c"
  },
  "language_info": {
   "file_extension": ".c",
   "mimetype": "text/plain",
   "name": "c"
  },
  "orig_nbformat": 4
 },
 "nbformat": 4,
 "nbformat_minor": 2
}
