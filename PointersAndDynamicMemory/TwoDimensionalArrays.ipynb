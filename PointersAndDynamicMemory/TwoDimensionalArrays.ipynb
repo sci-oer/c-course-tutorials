{
 "cells": [
  {
   "cell_type": "markdown",
   "metadata": {},
   "source": [
    "# Mallocing Two Dimensional Pointers\n",
    "\n",
    "In this tutorial we're going to walk through the process for mallocing 2 dimensional pointers/arrays\n",
    "What you'll see is a nested mallocing process:\n",
    "* First we malloc a pointer to a series of pointers\n",
    "* Then we'll malloc each pointer within it in a for loop\n",
    "* Next, we'll assign some values to those pointers\n",
    "\n",
    "Fair warning, this is going to feel confusing at first. That's okay. We'll walk through each step."
   ]
  },
  {
   "cell_type": "code",
   "execution_count": null,
   "metadata": {},
   "outputs": [],
   "source": [
    "int main(){\n",
    "    // Let's start with our old friend Bob, and make him a double pointer\n",
    "    // notice how there's two '*'s. This means we have a pointer, to some int pointers\n",
    "    // we'll make that make sense shortly\n",
    "    int ** bob;\n",
    "\n",
    "    // Now we're going to malloc room for 5 integer pointers! \n",
    "    // so we'll use the size of an integer pointer not an integer\n",
    "    bob = // Put your malloc here! m\n",
    "\n",
    "\n",
    "    // Instead of asking for enough memory for 5 integers, \n",
    "    // we're asking for enough memory for 5 integer POINTERS\n",
    "\n",
    "    printf(\"Bob's Address: %p\\n\", bob);\n",
    "\n",
    "    // By printing Bob, we can see malloc has given us an address. Bob himself is a pointer.\n",
    "\n",
    "    //Now we have to malloc room for each of the integer pointers Bob contains, 5 total\n",
    "    for(int i = 0; i < 5; i++){\n",
    "        // notice two things:\n",
    "            // first, we're accessing bob like an array. We can think of bob as an array of pointers or an array of arrays\n",
    "            // second, we're now mallocing with sizeof(int) because each pointer points to integers\n",
    "        // let's just malloc for 2 integers for each pointer\n",
    "        bob[i] = //put your malloc here!\n",
    "        // We can also see if we print bob at i, aftter mallocing we get an address\n",
    "        printf(\"bob[%d]: %p\\n\", i, bob[i]);\n",
    "\n",
    "        // when we print the address of each of those pointers,\n",
    "        // we notice that they're all side by side in memory just like the integers were.\n",
    "    }\n",
    "}"
   ]
  },
  {
   "cell_type": "code",
   "execution_count": null,
   "metadata": {},
   "outputs": [],
   "source": [
    "Copy Paste your Code from the previous example here!"
   ]
  },
  {
   "cell_type": "code",
   "execution_count": null,
   "metadata": {},
   "outputs": [],
   "source": [
    "#include <stdio.h>\n",
    "#include <stdlib.h>\n",
    "#include <string.h>\n",
    "\n",
    "int main(){\n",
    "\n",
    "    \n",
    "    // COPY PASTE HERE!\n",
    "\n",
    "    printf(\"\\n\");\n",
    "\n",
    "    // okay, now let's assign some integers to each of bob's pointers\n",
    "    for(int i = 0; i < 5; i++){\n",
    "        // we'll show how each index of bob is a pointer full of integers\n",
    "        printf(\"Bob[%d]: \\n\", i);\n",
    "        for(int j = 0; j< 5; j++){\n",
    "            // here we're treating bob like a 2D array\n",
    "            // we assign bob at index i, the integer value j\n",
    "          \n",
    "            // TRY DOING THAT ASSIGNMENT HERE\n",
    "            \n",
    "            // then we print it to show it off to you\n",
    "            printf(\"%d\\n\", bob[i][j]);\n",
    "        }\n",
    "        printf(\"\\n\");\n",
    "    }\n",
    "\n",
    "    \n",
    "}"
   ]
  }
 ],
 "metadata": {
  "interpreter": {
   "hash": "ba5b56f04adec64fa7335ea05568c200cf433e7eb62a2c99166a8dce55f6850a"
  },
  "kernelspec": {
   "display_name": "C",
   "language": "c",
   "name": "c"
  },
  "language_info": {
   "file_extension": ".c",
   "mimetype": "text/plain",
   "name": "c"
  }
 },
 "nbformat": 4,
 "nbformat_minor": 4
}
