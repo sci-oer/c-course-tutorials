{
 "cells": [
  {
   "cell_type": "markdown",
   "metadata": {},
   "source": [
    "# Pointers in Memory and Malloc\n",
    "\n",
    "Here we're going to walk through mallocing a pointer.\n",
    "By mallocing, the system gives us memory in the heap, as opposed to the stack ."
   ]
  },
  {
   "cell_type": "markdown",
   "metadata": {},
   "source": [
    "## Intro to Malloc\n",
    "\n",
    "With this first block, we're going to walk through mallocing for a single integer value.\n",
    "\n",
    "We will:\n",
    "* Use malloc to ask the computer for room on the heap for our new integer\n",
    "* Take a look at its address\n",
    "* See what happens when we print its value before assigning it something\n",
    "* Assign it a value\n",
    "* print the new value"
   ]
  },
  {
   "cell_type": "code",
   "execution_count": 8,
   "metadata": {},
   "outputs": [
    {
     "name": "stdout",
     "output_type": "stream",
     "text": [
      "Bob's Address: 0x600003f14020\n",
      "Bob's Value: 0\n",
      "Bob's Value After Assignment: 5\n"
     ]
    }
   ],
   "source": [
    "#include <stdio.h>\n",
    "#include <stdlib.h>\n",
    "#include <string.h>\n",
    "\n",
    "int main(){\n",
    "    // we're going to start by giving our good friend Bob, \n",
    "    // his own memory, instead of pointing to Frank's memory\n",
    "    // note the way we malloc\n",
    "        // first we tell malloc the size of the data type we want with sizeof(int)\n",
    "        // then we tell it how many by multiplying it by the number of ints we want to store\n",
    "    int * bob = //put your malloc here\n",
    "    \n",
    "    //let's see what bob looks like when we print it\n",
    "    printf(\"Bob's Address: %p\\n\", bob);\n",
    "    printf(\"Bob's Value: %d\\n\", *bob);\n",
    "    \n",
    "    // this is tricky, we haven't actually assigned Bob a value, \n",
    "    // so why does it print as 0?\n",
    "    // you may think that C is kind enough to set new pointers to 0\n",
    "    // it is not!\n",
    "    // what's actually happening is it's grabbing whatever values were \n",
    "    // in that spot in memory from before malloc gave it to us.\n",
    "    // That value could actually be anything, so be careful with new pointers!\n",
    "\n",
    "    // here we're going to dereference bob with *\n",
    "    // this tells the computer \"hey, go to Bob's address, I want to put something there\"\n",
    "    \n",
    "    //PUT YOUR CODE HERE for assigning Bob a value here :D\n",
    "\n",
    "    // this time, when we print the * operator says to the computer\n",
    "    // \"hey, go to Bob's address, and give me whatever is there.\"\n",
    "    printf(\"Bob's Value After Assignment: %d\\n\", *bob);\n",
    "}"
   ]
  },
  {
   "cell_type": "markdown",
   "metadata": {},
   "source": [
    "## Mallocing an array\n",
    "\n",
    "Now we're going to malloc an array of integers\n",
    "You'll note that it's not too different from mallocing for a single value.\n",
    "We can even use the pointer a lot like a static array, there's just some things to watch out for.\n",
    "\n",
    "We will:\n",
    "* malloc an array of integers that's 5 ints long\n",
    "* access that memory and print it\n",
    "* loop through the values "
   ]
  },
  {
   "cell_type": "code",
   "execution_count": 18,
   "metadata": {},
   "outputs": [
    {
     "name": "stdout",
     "output_type": "stream",
     "text": [
      "Bob's value at index 2: 2\n",
      "\n",
      "Address at index 0: 0x600001661120\n",
      "Address at index 1: 0x600001661124\n",
      "Address at index 2: 0x600001661128\n",
      "Address at index 3: 0x60000166112c\n",
      "Address at index 4: 0x600001661130\n",
      "\n",
      "The size of an integer is: 4\n"
     ]
    }
   ],
   "source": [
    "#include <stdio.h>\n",
    "#include <stdlib.h>\n",
    "#include <string.h>\n",
    "\n",
    "int main(){\n",
    "\n",
    "    // We're going to upgrade Bob and give him 5 spots this time\n",
    "    int * bob = // put your malloc here\n",
    "\n",
    "    // the only difference between this time and last time \n",
    "    // is how much we multiply by.\n",
    "    // We're saying to the computer\n",
    "    // \"hey, please give me room for 5 integers on the heap for bob. Thanks\"\n",
    "\n",
    "    // Now we're going to give bob some values\n",
    "    for (int i = 0; i < 5; i++){\n",
    "        // We can access bob's values like he's a regular array!\n",
    "        // think about how you'd assign an array values and try that on bob\n",
    "    }\n",
    "\n",
    "    // let's take a look at those values\n",
    "    printf(\"Bob's value at index 2: %d\\n\\n\", bob[2]);\n",
    "\n",
    "    // now let's see how the memory works\n",
    "    for(int i = 0; i < 5; i++){\n",
    "        // try printing the address of bob at each index\n",
    "        // HINT: you'll need to use the & operator for bob at each index\n",
    "        printf(\"Address at index %d: %p\\n\", i, &(bob[i]));\n",
    "    }\n",
    "\n",
    "    // Notice how the address of each index is 4 bytes apart\n",
    "\n",
    "    // and what's the size of an integer?\n",
    "    printf(\"\\nThe size of an integer is: %lu\\n\", sizeof(int));\n",
    "\n",
    "    // So what we can see that all the memory for Bob is side by side in memory\n",
    "    // that's just like an array would work!\n",
    "\n",
    "}"
   ]
  }
 ],
 "metadata": {
  "kernelspec": {
   "display_name": "C",
   "language": "c",
   "name": "c"
  },
  "language_info": {
   "file_extension": ".c",
   "mimetype": "text/plain",
   "name": "c"
  }
 },
 "nbformat": 4,
 "nbformat_minor": 4
}
