{
 "cells": [
  {
   "cell_type": "markdown",
   "metadata": {},
   "source": [
    "# Intro To Structs and Allocation of Structs\n",
    "\n",
    "Here we're going to make a struct for a rectangle datatype.\n",
    "Remember your structs can contain just about anything you want. So fill it with data that represents the object you're representing in your program.\n",
    "\n",
    "Our rectangle is going to contain 4 pieces of information:\n",
    "1. length\n",
    "2. width\n",
    "3. x coordinate of the top left corner\n",
    "4. y coordinate of the top left corner\n",
    "\n",
    "This would be useful for a program where we need to draw rectangles to a screen. The x,y coordinates tell us where to start from, and the length and width would inform where to draw the rest of the corners. See here we've included information from which we can extrapolate additional information, as opposed to including everything. This would be enough to use a drawRectangle function."
   ]
  },
  {
   "cell_type": "code",
   "execution_count": null,
   "metadata": {},
   "outputs": [],
   "source": [
    "//Creating the Rectangle struct\n",
    "\n",
    "#include <stdio.h>\n",
    "#include <string.h>\n",
    "#include <stdlib.h>\n",
    "\n",
    "\n",
    "// notice that we use a capital letter for the name of the struct\n",
    "// while the C compiler/parser doesn't make this mandatory, it's a good habit and is shared by programmers\n",
    "struct Rectangle{\n",
    "    // add the float properties of x coordinate, y coordinate, length, and width\n",
    "};\n",
    "\n",
    "int main(){\n",
    "    // here, farhan is our statically defined Rectangle struct\n",
    "    struct Rectangle farhan;\n",
    "\n",
    "    // let's give farhan some values\n",
    "    // Note that farhan is a statically allocated struct, so we use the '.' operator\n",
    "    // here set farhan's x,y, length, and width, to some  float values :)\n",
    "\n",
    "    printf(\"farhan the Rectangle:\\nx: %f, y: %f, length: %f, width: %f\\n\", farhan.x, farhan.y, farhan.length, farhan.width);\n",
    "}"
   ]
  },
  {
   "cell_type": "code",
   "execution_count": 1,
   "metadata": {},
   "outputs": [
    {
     "name": "stdout",
     "output_type": "stream",
     "text": [
      "farhan the Rectangle:\n",
      "x: 1.200000, y: 2.100000, length: 8.000000, width: 6.000000\n",
      "Kristine the Rectangle:\n",
      "x: 2.600000, y: 3.300000, length: 2.000000, width: 9.000000\n"
     ]
    }
   ],
   "source": [
    "#include <stdio.h>\n",
    "#include <string.h>\n",
    "#include <stdlib.h>\n",
    "\n",
    "\n",
    "// notice that we use a capital letter for the name of the struct\n",
    "// while the C compiler/parser doesn't make this mandatory, it's a good habit and is shared by programmers\n",
    "struct Rectangle{\n",
    "    float x;\n",
    "    float y;\n",
    "    float length;\n",
    "    float width;\n",
    "};\n",
    "\n",
    "int main(){\n",
    "\n",
    "    //Copy the last cell's code here!\n",
    "\n",
    "    // now we'll try dynamically allocating memory for a struct\n",
    "    // see how we can use sizeof on structs just like a normal data type\n",
    "    // this will automatically calculate the size of the Struct including all its datatypes inside it\n",
    "    struct Rectangle * kristine = // try mallocing for 1 Rectangle here\n",
    "\n",
    "    // let's give Kristine some values\n",
    "    // Note that kristine is a dynamically allocated struct, so we'll use the '->' operator\n",
    "\n",
    "    printf(\"Kristine the Rectangle:\\nx: %f, y: %f, length: %f, width: %f\\n\", kristine->x, kristine->y, kristine->length, kristine->width);\n",
    "    \n",
    "}\n",
    "\n"
   ]
  }
 ],
 "metadata": {
  "kernelspec": {
   "display_name": "C",
   "language": "c",
   "name": "c"
  },
  "language_info": {
   "file_extension": ".c",
   "mimetype": "text/plain",
   "name": "c"
  }
 },
 "nbformat": 4,
 "nbformat_minor": 4
}
