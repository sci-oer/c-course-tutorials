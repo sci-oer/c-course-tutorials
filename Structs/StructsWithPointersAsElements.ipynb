{
 "cells": [
  {
   "cell_type": "markdown",
   "metadata": {},
   "source": [
    "# Structs with Pointers as Elements\n",
    "\n",
    "Including pointers as an element in a struct works in much the same way as including any data type as an element to a struct. Once we include a pointer, we just have to allocate it and use it as usual. \n",
    "\n",
    "One thing to look out for, just like with 2D pointers, you have to free them from the inside out. If you free a struct you've allocated before freeing the pointers inside it, you'll leak memory. We'll show that here."
   ]
  },
  {
   "cell_type": "code",
   "execution_count": 5,
   "metadata": {},
   "outputs": [
    {
     "name": "stdout",
     "output_type": "stream",
     "text": [
      "name: farhan x: 1.200000, y: 2.100000, length: 8.000000, width: 6.000000\n",
      "name: Kristine x: 2.600000, y: 3.300000, length: 2.000000, width: 9.000000\n"
     ]
    }
   ],
   "source": [
    "\n",
    "#include <stdio.h>\n",
    "#include <string.h>\n",
    "#include <stdlib.h>\n",
    "\n",
    "// notice that we use a capital letter for the name of the struct\n",
    "// while the C compiler/parser doesn't make this mandatory, it's a good habit and is shared by programmers\n",
    "struct Rectangle{\n",
    "    float x;\n",
    "    float y;\n",
    "    float length;\n",
    "    float width;\n",
    "    char * name; // we'll add a name to our Rectangle struct as our pointer\n",
    "};\n",
    "\n",
    "int main(){\n",
    "    // here, farhan is our statically defined Rectangle struct\n",
    "    struct Rectangle farhan;\n",
    "\n",
    "    // let's give farhan some values\n",
    "    // Note that farhan is a statically allocated struct, so we use the '.' operator\n",
    "    farhan.x = 1.2;\n",
    "    farhan.y = 2.1;\n",
    "    farhan.length = 8.0;\n",
    "    farhan.width = 6.0;\n",
    "\n",
    "    // note we malloc it the same as usual and we're setting the max length to 100 chars\n",
    "    farhan.name = malloc(sizeof(char) * 100);\n",
    "\n",
    "    strcpy(farhan.name, \"Farhan\");\n",
    "\n",
    "    printf(\"name: %s x: %f, y: %f, length: %f, width: %f\\n\", farhan.name, farhan.x, farhan.y, farhan.length, farhan.width);\n",
    "\n",
    "    // see how we can use sizeof on structs just like a normal data type\n",
    "    // this will automatically calculate the size of the Struct including all its datatypes inside it\n",
    "    struct Rectangle * kristine = malloc(sizeof(struct Rectangle) * 1);\n",
    "\n",
    "    // let's give farhan some values\n",
    "    // Note that kristine is a dynamically allocated struct, so we use the '.' operator\n",
    "    kristine->x = 2.6;\n",
    "    kristine->y = 3.3;\n",
    "    kristine->length = 2.0;\n",
    "    kristine->width = 9.0;\n",
    "    kristine->name = malloc(sizeof(char) * 100);\n",
    "    strcpy(kristine->name, \"Kristine\");\n",
    "\n",
    "    printf(\"name: %s x: %f, y: %f, length: %f, width: %f\\n\",kristine->name, kristine->x, kristine->y, kristine->length, kristine->width);\n",
    "\n",
    "    // Here we free the pointer inside our structs first\n",
    "    // we'll revisit this in section 9\n",
    "    free(kristine->name);\n",
    "    free(farhan.name);\n",
    "\n",
    "    // now that we've freed kristine->name, we can free kristine safely\n",
    "    free(kristine);\n",
    "}\n",
    "\n"
   ]
  }
 ],
 "metadata": {
  "kernelspec": {
   "display_name": "C",
   "language": "c",
   "name": "c"
  },
  "language_info": {
   "file_extension": ".c",
   "mimetype": "text/plain",
   "name": "c"
  },
  "orig_nbformat": 4
 },
 "nbformat": 4,
 "nbformat_minor": 2
}
