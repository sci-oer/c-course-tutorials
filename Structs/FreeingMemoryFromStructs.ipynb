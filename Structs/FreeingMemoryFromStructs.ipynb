{
 "cells": [
  {
   "cell_type": "markdown",
   "metadata": {},
   "source": [
    "# Freeing Memory From Structs\n",
    "\n",
    "Freeing memory from structs is a lot like freeing memory from 2D pointers. We want to free from the inside out so we don't lose access to the inner pointers.\n",
    "In this example we're going to dynamically allocate an array of Rectangle Structs and their name values (Strings/char *). After that, we'll show how to free those Rectangle's names and the Rectangle pointer itself without leaking memory."
   ]
  },
  {
   "cell_type": "code",
   "execution_count": 2,
   "metadata": {},
   "outputs": [
    {
     "name": "stdout",
     "output_type": "stream",
     "text": [
      "name: rectanglesDynamic x: 0.000000, y: 0.000000, length: 0.000000, width: 0.000000\n",
      "name: rectanglesDynamic x: 1.000000, y: 1.000000, length: 1.000000, width: 1.000000\n",
      "name: rectanglesDynamic x: 2.000000, y: 2.000000, length: 2.000000, width: 2.000000\n",
      "name: rectanglesDynamic x: 3.000000, y: 3.000000, length: 3.000000, width: 3.000000\n",
      "name: rectanglesDynamic x: 4.000000, y: 4.000000, length: 4.000000, width: 4.000000\n"
     ]
    }
   ],
   "source": [
    "#include <stdio.h>\n",
    "#include <string.h>\n",
    "#include <stdlib.h>\n",
    "\n",
    "// we're using our friendly neighborhood Rectangle struct again\n",
    "typedef struct Rectangle{\n",
    "    float x;\n",
    "    float y;\n",
    "    float length;\n",
    "    float width;\n",
    "    char * name; // we'll add a name to our Rectangle struct as our pointer\n",
    "} Rectangle;\n",
    "\n",
    "// Now we can replace it with just one word\n",
    "void printRectangle(Rectangle toPrint);\n",
    "\n",
    "void printRectangle(Rectangle toPrint){\n",
    "    printf(\"name: %s x: %f, y: %f, length: %f, width: %f\\n\", toPrint.name, toPrint.x, toPrint.y, toPrint.length, toPrint.width);\n",
    "    return;\n",
    "}\n",
    "\n",
    "int main(){\n",
    "\n",
    "    // we'll repeat our process from last example to fill some Rectangle structs with data\n",
    "\n",
    "    // remember to add the '*' because we want a pointer here.\n",
    "    Rectangle * rectanglesDynamic;\n",
    "\n",
    "    // see how we can use sizeof on our struct? Pretty cool, huh?\n",
    "    rectanglesDynamic = malloc(sizeof(Rectangle) * 5);\n",
    "\n",
    "    for (int i = 0; i<5; i++){\n",
    "        // here's a quirk. Notice how we use the '.' (dot) operator even though \n",
    "        // rectanglesDynamic is a pointer?\n",
    "        // that's because, when we use array notation (arr[i]), we effectively \n",
    "        // dereference the struct at that address\n",
    "        // it's a bit weird, and I still mess it up sometimes, so keep an eye out :)\n",
    "        rectanglesDynamic[i].x = i;\n",
    "        rectanglesDynamic[i].y = i;\n",
    "        rectanglesDynamic[i].length = i;\n",
    "        rectanglesDynamic[i].width = i;\n",
    "        rectanglesDynamic[i].name = malloc(sizeof(char)*10);\n",
    "        strcpy(rectanglesDynamic[i].name, \"rectanglesDynamic\");\n",
    "\n",
    "        // and let's print out those values to see how they look\n",
    "        printRectangle(rectanglesDynamic[i]);\n",
    "    }\n",
    "\n",
    "    // FREE TIME\n",
    "\n",
    "    // Remember we free from the inside out.\n",
    "    // When we allocated, we started from the Rectangle pointer, then allocated the name string in each Rectangle.\n",
    "    // Now we'll reverse that process to free the memory safely\n",
    "\n",
    "    for(int i = 0; i < 5; i++){\n",
    "        // rememember we're using array notation, so we're effectively dereferencing the rectangle at index i\n",
    "        // that means we use the '.' (dot) operator instead of the '->' (arrow) operator\n",
    "        free(rectanglesDynamic[i].name);\n",
    "    }\n",
    "\n",
    "    // now that we've gone through each rectangle and freed its name (string / char *)\n",
    "    // we can free the Rectangle pointer itself\n",
    "    free(rectanglesDynamic);\n",
    "\n",
    "\n",
    "\n",
    "}\n",
    "\n"
   ]
  }
 ],
 "metadata": {
  "kernelspec": {
   "display_name": "C",
   "language": "c",
   "name": "c"
  },
  "language_info": {
   "file_extension": ".c",
   "mimetype": "text/plain",
   "name": "c"
  },
  "orig_nbformat": 4
 },
 "nbformat": 4,
 "nbformat_minor": 2
}
