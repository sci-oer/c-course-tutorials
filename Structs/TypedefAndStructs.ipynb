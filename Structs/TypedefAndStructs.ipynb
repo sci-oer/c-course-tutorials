{
 "cells": [
  {
   "cell_type": "markdown",
   "metadata": {},
   "source": [
    "# Typedef and Structs\n",
    "\n",
    "It can be a pain to both read and type out structs as \"struct MyNewDataType\". Typedefs allow us to create an alias. Let's test out how that works by typedef-ing our Rectangle struct."
   ]
  },
  {
   "cell_type": "code",
   "execution_count": 2,
   "metadata": {},
   "outputs": [
    {
     "name": "stdout",
     "output_type": "stream",
     "text": [
      "name: Farhan x: 1.200000, y: 2.100000, length: 8.000000, width: 6.000000\n",
      "name: Kristine x: 2.600000, y: 3.300000, length: 2.000000, width: 9.000000\n"
     ]
    }
   ],
   "source": [
    "\n",
    "#include <stdio.h>\n",
    "#include <string.h>\n",
    "#include <stdlib.h>\n",
    "\n",
    "// we're using our friendly neighborhood Rectangle struct again\n",
    "struct Rectangle{\n",
    "    float x;\n",
    "    float y;\n",
    "    float length;\n",
    "    float width;\n",
    "    char * name; // we'll add a name to our Rectangle struct as our pointer\n",
    "};\n",
    "\n",
    "// notice we typedef \"struct Rectangle\" to \"Rectangle\"\n",
    "typedef struct Rectangle Rectangle;\n",
    "\n",
    "// here we show the original function prototypes where we type out the full \"struct Rectangle ...\"\n",
    "// void printRectangle(struct Rectangle toPrint);\n",
    "// void printRectanglePointer(struct Rectangle * toPrint);\n",
    "\n",
    "// Now we can replace it with just one word\n",
    "void printRectangle(Rectangle toPrint);\n",
    "void printRectanglePointer(Rectangle * toPrint);\n",
    "\n",
    "void printRectangle(Rectangle toPrint){\n",
    "    printf(\"name: %s x: %f, y: %f, length: %f, width: %f\\n\", toPrint.name, toPrint.x, toPrint.y, toPrint.length, toPrint.width);\n",
    "    return;\n",
    "}\n",
    "\n",
    "void printRectanglePointer(Rectangle * toPrint){\n",
    "    printf(\"name: %s x: %f, y: %f, length: %f, width: %f\\n\",toPrint->name, toPrint->x, toPrint->y, toPrint->length, toPrint->width);\n",
    "    return;\n",
    "}\n",
    "\n",
    "int main(){\n",
    "    // here, farhan is our statically defined Rectangle struct\n",
    "    Rectangle farhan;\n",
    "\n",
    "    // let's give farhan some values\n",
    "    // Note that farhan is a statically allocated struct, so we use the '.' operator\n",
    "    farhan.x = 1.2;\n",
    "    farhan.y = 2.1;\n",
    "    farhan.length = 8.0;\n",
    "    farhan.width = 6.0;\n",
    "\n",
    "    // note we malloc it the same as usual and we're setting the max length to 100 chars\n",
    "    farhan.name = malloc(sizeof(char) * 100);\n",
    "\n",
    "    strcpy(farhan.name, \"Farhan\");\n",
    "\n",
    "    // see how we can use sizeof on structs just like a normal data type\n",
    "    // this will automatically calculate the size of the Struct including all its datatypes inside it\n",
    "    Rectangle * kristine = malloc(sizeof(Rectangle) * 1);\n",
    "\n",
    "    // let's give farhan some values\n",
    "    // Note that kristine is a dynamically allocated struct, so we use the '.' operator\n",
    "    kristine->x = 2.6;\n",
    "    kristine->y = 3.3;\n",
    "    kristine->length = 2.0;\n",
    "    kristine->width = 9.0;\n",
    "    kristine->name = malloc(sizeof(char) * 100);\n",
    "    strcpy(kristine->name, \"Kristine\");\n",
    "\n",
    "    //in printRectangle, we're passing farhan, our statically allocated Rectangle struct\n",
    "    printRectangle(farhan);\n",
    "    \n",
    "    //in printRectanglePointer, we're passing Kristine, our dynamically allocated Rectangle struct\n",
    "    printRectanglePointer(kristine);\n",
    "\n",
    "    // Here we free the pointer inside our structs first\n",
    "    free(kristine->name);\n",
    "    free(farhan.name);\n",
    "\n",
    "    // now that we've freed kristine->name, we can free kristine safely\n",
    "    free(kristine);\n",
    "}\n",
    "\n"
   ]
  }
 ],
 "metadata": {
  "kernelspec": {
   "display_name": "C",
   "language": "c",
   "name": "c"
  },
  "language_info": {
   "file_extension": ".c",
   "mimetype": "text/plain",
   "name": "c"
  },
  "orig_nbformat": 4
 },
 "nbformat": 4,
 "nbformat_minor": 2
}
