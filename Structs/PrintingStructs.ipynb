{
 "cells": [
  {
   "cell_type": "markdown",
   "metadata": {},
   "source": [
    "# Printing Structs\n",
    "\n",
    "So we've been printing structs throughout our examples, but there's a better way. The way we've been doing it is by printing directly to stdout. What we want to do instead is allocate a string and return it. This way we can choose where we print the string. We could print to stdout, stderr, a file, some other string, etc. By creating a string, we make our code more flexible instead of locking it down to one piece of functionality.\n",
    "\n",
    "In this example we'll redesign our printRectangle function to return a string instead."
   ]
  },
  {
   "cell_type": "code",
   "execution_count": 3,
   "metadata": {},
   "outputs": [
    {
     "name": "stdout",
     "output_type": "stream",
     "text": [
      "name: Dana x: 1.000000, y: 2.000000, length: 3.200000, width: 1.200000\n"
     ]
    }
   ],
   "source": [
    "\n",
    "#include <stdio.h>\n",
    "#include <string.h>\n",
    "#include <stdlib.h>\n",
    "\n",
    "// we're using our friendly neighborhood Rectangle struct again\n",
    "typedef struct Rectangle{\n",
    "    float x;\n",
    "    float y;\n",
    "    float length;\n",
    "    float width;\n",
    "    char * name; // we'll add a name to our Rectangle struct as our pointer\n",
    "} Rectangle;\n",
    "\n",
    "Rectangle * createRectangle(float x, float y, float length, float width, char * name);\n",
    "\n",
    "// Notice how we've changes the return type of printRectangle to a char *\n",
    "char* printRectangle(Rectangle toPrint);\n",
    "\n",
    "char* printRectangle(Rectangle toPrint){\n",
    "    // we're just going to allocate for a maximum of 1000 characters. \n",
    "    // In best practices we should do some calculation to know the length of this string\n",
    "    char * rectangleString = malloc(sizeof(char) * 1000);\n",
    "\n",
    "    // we can use sprintf to print to a string. Let's print to rectangleString\n",
    "    // we're also going to remove the newline at the end.\n",
    "    // Formatting is something you should give yourself flexibility on as well. So try to leave newlines out of print functions\n",
    "    sprintf(rectangleString, \"name: %s x: %f, y: %f, length: %f, width: %f\", toPrint.name, toPrint.x, toPrint.y, toPrint.length, toPrint.width);\n",
    "\n",
    "    // now that we've filled rectangleString with a string that contains our Rectangle's values, we can return it\n",
    "    return rectangleString;\n",
    "}\n",
    "\n",
    "int main(){\n",
    "\n",
    "    // we'll repeat our process from last example to fill some Rectangle structs with data\n",
    "\n",
    "    // now we can use our createRectangle function to do all of the work for us. \n",
    "    Rectangle * rectangleDynamic = createRectangle(1, 2, 3.2, 1.2, \"Dana\");\n",
    "\n",
    "    char * rectString = printRectangle(*rectangleDynamic);\n",
    "    printf(\"%s\\n\", rectString);\n",
    "\n",
    "    // remember let's free from the inside out \n",
    "    free(rectangleDynamic->name);\n",
    "    free(rectangleDynamic);\n",
    "    free(rectString);\n",
    "\n",
    "    // notice how much cleaner our main function looks when we move createRectangle to another function\n",
    "}\n",
    "\n",
    "// here is our create Rectangle function\n",
    "// notice we return a Rectangle pointer\n",
    "// and we receive all the values in Rectangle as parameters\n",
    "Rectangle * createRectangle(float x, float y, float length, float width, char * name){\n",
    "    // so first off we allocate a new Rectangle pointer. I like to *1 as a practice to make it clear only 1 is being allocated\n",
    "    Rectangle * newRectangle = malloc(sizeof(Rectangle) * 1);\n",
    "\n",
    "    // this is a safety measure. Sometimes malloc doesn't work (it's rare but happens)\n",
    "    // to be safe, we do a \"null check\" and return before assigning values to avoid errors\n",
    "    if (newRectangle == NULL) {return NULL;}\n",
    "\n",
    "    // we're dealing with a pointer again, so it's time for arrow notation\n",
    "    // see how we assign the newRectangle's properties the values we got from the parameters?\n",
    "    newRectangle->x = x;\n",
    "    newRectangle->y = y;\n",
    "    newRectangle->length = length;\n",
    "    newRectangle->width = width;\n",
    "\n",
    "    // we have to be careful with strings of course.\n",
    "    // we know that something like newRectangle->name = name, could cause weird issues.\n",
    "    // instead we malloc and strcpy\n",
    "\n",
    "    // to get a safe amount of space we use the strlen of the string we received in our malloc\n",
    "    // I add 1 extra character so there's room for a null terminator (strlen doesn't count that)\n",
    "    newRectangle->name = malloc(sizeof(char) * (strlen(name) + 1));\n",
    "\n",
    "    //now we can strcpy safely\n",
    "    strcpy(newRectangle->name, name);\n",
    "\n",
    "    // now that newRectangle has been allocated and all of its value assigned, we can return it\n",
    "    return newRectangle;\n",
    "}"
   ]
  }
 ],
 "metadata": {
  "kernelspec": {
   "display_name": "C",
   "language": "c",
   "name": "c"
  },
  "language_info": {
   "file_extension": ".c",
   "mimetype": "text/plain",
   "name": "c"
  },
  "orig_nbformat": 4
 },
 "nbformat": 4,
 "nbformat_minor": 2
}
