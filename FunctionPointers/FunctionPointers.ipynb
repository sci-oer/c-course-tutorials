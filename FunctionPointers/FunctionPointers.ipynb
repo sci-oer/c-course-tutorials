{
 "cells": [
  {
   "cell_type": "markdown",
   "metadata": {},
   "source": [
    "# Function Pointers\n",
    "\n",
    "To practice using function pointers, we're going to do an example with quick sort. qsort is a sorting function built into the C library. It takes a series of abstracted parameters (void pointers and a comparison function) to allow qsort to be used on any type of data you give it. \n",
    "\n",
    "We'll need to:\n",
    "1. Create a comparison function that matches qsort's Comparison function signature\n",
    "2. Pass that function as well as the array that needs to be sorted\n",
    "3. look at the array before and after"
   ]
  },
  {
   "cell_type": "code",
   "execution_count": 1,
   "metadata": {},
   "outputs": [
    {
     "name": "stdout",
     "output_type": "stream",
     "text": [
      "Before sorting the list is: \n",
      "88 56 100 2 25 \n",
      "After sorting the list is: \n",
      "2 25 56 88 100 "
     ]
    }
   ],
   "source": [
    "// Example from https://www.tutorialspoint.com/c_standard_library/c_function_qsort.htm\n",
    "\n",
    "\n",
    "// this is the function signature for qsort\n",
    "// void qsort(void *base, size_t nel, size_t width, int (*compar)(const void *, const void *));\n",
    "\n",
    "// its paramaters are:\n",
    "    // void * base - the array that is going to be sorted\n",
    "    // size_t nel - the number of elements\n",
    "    // size_t width - the size of those elements (we'll use sizeof to find out)\n",
    "    // int (*compar)(const void *, const void *)\n",
    "        // this is the function you're passing to qsort\n",
    "        // the above line tells the programmer what format the comparison functino must be\n",
    "        // it must:\n",
    "            // return an integer\n",
    "            // receive 2 void pointers that are treated as constants (they should not be changed)\n",
    "\n",
    "\n",
    "#include <stdio.h>\n",
    "#include <stdlib.h>\n",
    "\n",
    "// Here we have the array of integer values to be sorted. \n",
    "int values[] = { 88, 56, 100, 2, 25 };\n",
    "\n",
    "\n",
    "// here we define the comparison function\n",
    "// note that it:\n",
    "    // returns an integer\n",
    "    // receives 2 void pointers treated as constants\n",
    "int comparisonFunction (const void * a, const void * b) {\n",
    "\n",
    "    // the first thing we'll do is cast and assign.\n",
    "    // casting is something we do (mostly) to void pointers\n",
    "    // void pointers can be any type\n",
    "    // by casting them, we tell the computer \"hey, treat this as an int *\" or any other type you want\n",
    "    int * alpha = (int*) a;\n",
    "    int * beta = (int*) b;\n",
    "\n",
    "    // let's create a varialbe to store the result of our comparison\n",
    "    int result; \n",
    "\n",
    "    // to compare we simply subtract beta from alpha \n",
    "    // notice that since alpha and beta are pointers\n",
    "    // to compare their values, we have to dereference them first.\n",
    "    result = *alpha - *beta\n",
    "\n",
    "    return result;\n",
    "\n",
    "    // if you're keen, you can do all this on one line like this:\n",
    "    //return ( *(int*)a - *(int*)b );\n",
    "}\n",
    "\n",
    "int main () {\n",
    "    // the list prior to sorting\n",
    "    printf(\"Before sorting the list is: \\n\");\n",
    "    for(int i = 0 ; i < 5; i++ ) {\n",
    "        printf(\"%d \", values[i]);\n",
    "    }\n",
    "\n",
    "    // now we can run qsort on our array\n",
    "    // we pass it:\n",
    "        // the array of integers\n",
    "        // how many integers (5)\n",
    "        // the sizeof an integer with sizeof(int)\n",
    "        // the comparisonFunction we just wrote\n",
    "    qsort(values, 5, sizeof(int), comparisonFunction);\n",
    "\n",
    "    printf(\"\\nAfter sorting the list is: \\n\");\n",
    "    for( n = 0 ; n < 5; n++ ) {   \n",
    "        printf(\"%d \", values[n]);\n",
    "    }\n",
    "  \n",
    "    return(0);\n",
    "}"
   ]
  },
  {
   "cell_type": "code",
   "execution_count": null,
   "metadata": {},
   "outputs": [],
   "source": []
  }
 ],
 "metadata": {
  "kernelspec": {
   "display_name": "C",
   "language": "c",
   "name": "c"
  },
  "language_info": {
   "file_extension": ".c",
   "mimetype": "text/plain",
   "name": "c"
  },
  "orig_nbformat": 4
 },
 "nbformat": 4,
 "nbformat_minor": 2
}
