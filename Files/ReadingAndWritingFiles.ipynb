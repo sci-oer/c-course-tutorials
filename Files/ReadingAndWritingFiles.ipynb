{
 "cells": [
  {
   "cell_type": "markdown",
   "metadata": {},
   "source": [
    "# Reading and Writing Files\n",
    "\n",
    "Reading and writing to files for permanent storage of data is a vital programming tool. Let's take a look at a few ways to read and write."
   ]
  },
  {
   "cell_type": "markdown",
   "metadata": {},
   "source": [
    "## Writing Files\n",
    "\n",
    "We're going to start with writing a file.\n",
    "Writing strings out to a file is a great way to store data for later.\n",
    "Sometimes you want to update a configuration file at run time\n",
    "or store information of some sort for the next time your program runs.\n",
    "To do this we can write information to a file and read it back next time.\n",
    "\n",
    "Let's start by writing a single string to a file."
   ]
  },
  {
   "cell_type": "code",
   "execution_count": 3,
   "metadata": {},
   "outputs": [],
   "source": [
    "\n",
    "#include <stdio.h>\n",
    "#include <string.h>\n",
    "#include <stdlib.h>\n",
    "\n",
    "#define FILE_NAME \"test.txt\"\n",
    "\n",
    "int main(){\n",
    "    // much like any other pointer, we declare kayla the file, \n",
    "    // with File * <variable name>\n",
    "    FILE * kayla;\n",
    "\n",
    "    // We're going to make kayla point to a file and intend to write into that file\n",
    "    // fopen takes the file name first, then the mode of operation - 'w' for write\n",
    "    kayla = fopen(FILE_NAME, \"w\");\n",
    "\n",
    "    // sometimes things can go wrong while trying to open files\n",
    "    // when fopen fails it will return NULL as opposed to an address.\n",
    "    // it's good practice to check for NULL before proceeding\n",
    "\n",
    "    if (kayla == NULL){\n",
    "        printf (\"error opening file\\n\"); \n",
    "        exit(0);\n",
    "    }\n",
    "\n",
    "    // Now let's write a simple string to the file.\n",
    "    // we're going to use fputs. I like to think of this as \"file put string\"\n",
    "    // to help me remember what it's for\n",
    "    fputs(\"hello. This is a string for test.txt\", kayla);\n",
    "\n",
    "    fclose(kayla);\n",
    "}"
   ]
  },
  {
   "cell_type": "markdown",
   "metadata": {},
   "source": [
    "## Reading Files\n",
    "\n",
    "Now that we've placed a string in test.txt, we can read that back in a variety of different ways.\n",
    "fgetc and fgets are both common ways."
   ]
  },
  {
   "cell_type": "code",
   "execution_count": 4,
   "metadata": {},
   "outputs": [
    {
     "name": "stdout",
     "output_type": "stream",
     "text": [
      "str from kayla the file pointer: hello. This is a string for test.txt\n"
     ]
    }
   ],
   "source": [
    "#include <stdio.h>\n",
    "#include <string.h>\n",
    "#include <stdlib.h>\n",
    "\n",
    "// we're going to assume you ran the previous code block and test.txt exists\n",
    "#define FILE_NAME \"test.txt\"\n",
    "#define MAX_STR_LEN 100\n",
    "\n",
    "int main(){\n",
    "    // much like any other pointer, we declare kayla the file, \n",
    "    // with File * <variable name>\n",
    "    FILE * kayla;\n",
    "\n",
    "    // We're going to make kayla point to a file and intend to read from that file\n",
    "    // fopen takes the file name first, then the mode of operation - 'r' for read\n",
    "    kayla = fopen(FILE_NAME, \"r\");\n",
    "\n",
    "    // sometimes things can go wrong while trying to open files\n",
    "    // when fopen fails it will return NULL as opposed to an address.\n",
    "    // it's good practice to check for NULL before proceeding\n",
    "\n",
    "    if (kayla == NULL){\n",
    "        printf (\"error opening file\\n\"); \n",
    "        exit(0);\n",
    "    }\n",
    "\n",
    "    // now let's make a char * to hold the string we retrieve from the file\n",
    "    char * str = malloc(sizeof(char) * MAX_STR_LEN);\n",
    "\n",
    "    // fgets takes 3 parameters: a string, a maximum number of characters, and a FILE *\n",
    "    // To leave room for the null terminator I set the max number of characters to read \n",
    "    // to MAX_STR_LEN - 1\n",
    "    fgets(str, MAX_STR_LEN - 1, kayla);\n",
    "\n",
    "    printf(\"str from kayla the file pointer: %s\\n\", str);\n",
    "\n",
    "    fclose(kayla);\n",
    "}"
   ]
  }
 ],
 "metadata": {
  "interpreter": {
   "hash": "1b5fc1aec8118c3871a2d90c052f0799b6afdaf1fe2f9e228bb1d9deddc6f183"
  },
  "kernelspec": {
   "display_name": "C",
   "language": "c",
   "name": "c"
  },
  "language_info": {
   "file_extension": ".c",
   "mimetype": "text/plain",
   "name": "c"
  },
  "orig_nbformat": 4
 },
 "nbformat": 4,
 "nbformat_minor": 2
}
