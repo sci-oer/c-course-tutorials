{
 "cells": [
  {
   "cell_type": "markdown",
   "metadata": {},
   "source": [
    "# Intro to Files\n",
    "\n",
    "In this tutorial we'r going to do 3 of the 4 steps we talked about in the lesson:\n",
    "1. Declare a File Pointer\n",
    "2. Open a file for reading and writing\n",
    "3. Close a file"
   ]
  },
  {
   "cell_type": "code",
   "execution_count": 8,
   "metadata": {},
   "outputs": [
    {
     "name": "stdout",
     "output_type": "stream",
     "text": [
      "Kayla's Address: 0x203968d50\n",
      "Kayla's Address after closing: 0x203968d50\n"
     ]
    }
   ],
   "source": [
    "#include <stdio.h>\n",
    "#include <string.h>\n",
    "#include <stdlib.h>\n",
    "\n",
    "#define FILE_NAME \"test.txt\"\n",
    "\n",
    "int main(){\n",
    "    // much like any other pointer, we declare kayla the file, \n",
    "    // with File * <variable name>\n",
    "    FILE * kayla;\n",
    "\n",
    "    // We're going to make kayla point to a file and intend to write into that file\n",
    "    // fopen takes the file name first, then the mode of operation - 'w' for write\n",
    "    kayla = fopen(FILE_NAME, \"w\");\n",
    "\n",
    "    // sometimes things can go wrong while trying to open files\n",
    "    // when fopen fails it will return NULL as opposed to an address.\n",
    "    // it's good practice to check for NULL before proceeding\n",
    "\n",
    "    if (kayla == NULL){\n",
    "        printf (\"error opening file\\n\"); \n",
    "        exit(0);\n",
    "    }\n",
    "\n",
    "    // you can see, just like our normal pointers, Kayla get's an address in memory\n",
    "    printf(\"Kayla's Address: %p\\n\", kayla);\n",
    "\n",
    "    // now we'll close the the file Kayla points to\n",
    "    // this breaks the connection between kayla the pointer, and the file in the file system\n",
    "    fclose(kayla);\n",
    "\n",
    "    printf(\"Kayla's Address after closing: %p\\n\", kayla);\n",
    "    // just like when we free pointers, sometimes they keep their address for a little bit\n",
    "    // don't be fooled though, if you try to use a FILE * after closing it\n",
    "    // you'll get undefined behaviour or a crash\n",
    "\n",
    "}"
   ]
  }
 ],
 "metadata": {
  "kernelspec": {
   "display_name": "C",
   "language": "c",
   "name": "c"
  },
  "language_info": {
   "file_extension": ".c",
   "mimetype": "text/plain",
   "name": "c"
  },
  "orig_nbformat": 4
 },
 "nbformat": 4,
 "nbformat_minor": 2
}
