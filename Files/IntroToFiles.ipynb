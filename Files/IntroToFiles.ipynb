{
 "cells": [
  {
   "cell_type": "markdown",
   "metadata": {},
   "source": [
    "# Intro to Files\n",
    "\n",
    "This tutorial provides practice in working with files.   \n",
    "First declare a file pointer and  open a file named \"test.txt\" for writing.\n"
   ]
  },
  {
   "cell_type": "code",
   "execution_count": null,
   "metadata": {
    "tags": []
   },
   "outputs": [],
   "source": [
    "#include <stdio.h>\n",
    "#include <string.h>\n",
    "#include <stdlib.h>\n",
    "\n",
    "\n",
    "int main(){\n",
    "    \n",
    "    //declare a FILE * variable here\n",
    "\n",
    "\n",
    "    // call `fopen` using test.txt as the filename and \"w\" as the mode. Assign the return value to the pointer you declared\n",
    "    // e.g.  myVar = fopen(filename, \"w\")\n",
    "    \n",
    "\n",
    " \n",
    "\n",
    "}"
   ]
  },
  {
   "cell_type": "markdown",
   "metadata": {},
   "source": [
    "You likely won't get any output from running the code block above.  That is expected, we didn't do anything that should cause output.\n",
    "\n",
    "Next you need to check to see if the file pointer is null in case something went wrong when opening the file.\n",
    "Complete the if statement below and copy in your previous solution.   When you run the code below you should see some output."
   ]
  },
  {
   "cell_type": "code",
   "execution_count": null,
   "metadata": {},
   "outputs": [],
   "source": [
    "#include <stdio.h>\n",
    "#include <string.h>\n",
    "#include <stdlib.h>\n",
    "\n",
    "\n",
    "int main(){\n",
    "    // copy/paste your code from the first cell here\n",
    "\n",
    "\n",
    "    // sometimes things can go wrong while trying to open files\n",
    "    // when fopen fails it will return NULL as opposed to an address.\n",
    "    // it's good practice to check for NULL before proceeding\n",
    "\n",
    "    if (/*check to see if your pointer is null*/){\n",
    "        printf (\"error opening file\\n\"); \n",
    "        exit(0);\n",
    "    }else{\n",
    "        printf(\"success in opening file\\n\");\n",
    "    }\n",
    "}"
   ]
  },
  {
   "cell_type": "markdown",
   "metadata": {},
   "source": [
    "Use `fputs` to write a string to the file you have open.   \n",
    "then close the file.   When you run the code, you should see a file show up in the file browser to the left.\n",
    "Check the file to see if it contains the text you wrote."
   ]
  },
  {
   "cell_type": "code",
   "execution_count": null,
   "metadata": {},
   "outputs": [],
   "source": [
    "#include <stdio.h>\n",
    "#include <string.h>\n",
    "#include <stdlib.h>\n",
    "\n",
    "\n",
    "\n",
    "int main(){  \n",
    "    //copy your previous solution here\n",
    "    \n",
    "\n",
    "    //use fputs to write something to the file\n",
    "    //e.g. fputs(\"the thing you want to write\", yourFilePointer);\n",
    "\n",
    "    // now close the file\n",
    "    // this breaks the connection between the pointer, and the file in the file system\n",
    "    // e.g. fclose(yourFilePointer);\n",
    "\n",
    "\n",
    "       \n",
    "}"
   ]
  }
 ],
 "metadata": {
  "kernelspec": {
   "display_name": "C",
   "language": "c",
   "name": "c"
  },
  "language_info": {
   "file_extension": ".c",
   "mimetype": "text/plain",
   "name": "c"
  }
 },
 "nbformat": 4,
 "nbformat_minor": 4
}
