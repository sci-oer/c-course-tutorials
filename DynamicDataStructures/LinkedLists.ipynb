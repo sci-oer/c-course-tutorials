{
 "cells": [
  {
   "cell_type": "markdown",
   "metadata": {},
   "source": [
    "# Linked Lists\n",
    "\n",
    "Linked lists and other dynamic data types are vital tools in programming. In this example we're going to play around with nodes and how to link them, without introducing a full linked list API.\n",
    "\n",
    "Here we'll:\n",
    "1. create a node struct that holds an integer\n",
    "2. have you malloc space for those nodes on the heap\n",
    "3. Link those nodes together\n",
    "\n",
    "In the second exercise we'll\n",
    "1. create nodes\n",
    "2. fill them with data\n",
    "3. and iterate through the linked list"
   ]
  },
  {
   "cell_type": "code",
   "execution_count": null,
   "metadata": {},
   "outputs": [],
   "source": [
    "// A simple C program to introduce\n",
    "// a linked list\n",
    "#include <stdio.h>\n",
    "#include <stdlib.h>\n",
    "\n",
    "// let's use a typedef here so we can refer to these as Nodes \n",
    "typedef struct Node {\n",
    "    int data;\n",
    "    // because the typedef isn't done until the end of the struct definition, we have to use \"struct Node*\" here\n",
    "    struct Node* next;\n",
    "} Node;\n",
    "\n",
    "int main()\n",
    "{\n",
    "    //Let's start by allocating memory for a head node and a node we want to follow\n",
    "    \n",
    "    //Head node malloc ->\n",
    "    //Second node malloc ->\n",
    "    \n",
    "    //Now let's set the data in the head node to some value of your choice\n",
    "    \n",
    "    \n",
    "    //Lastly, let's set the head node's next to the second node you malloc'd\n",
    "    \n",
    "    //Once you've done that, you can run this cell to check if it compiles :)\n",
    "}\n"
   ]
  },
  {
   "cell_type": "code",
   "execution_count": null,
   "metadata": {},
   "outputs": [],
   "source": [
    "// A simple C program to introduce\n",
    "// a linked list\n",
    "#include <stdio.h>\n",
    "#include <stdlib.h>\n",
    "\n",
    "// let's use a typedef here so we can refer to these as Nodes \n",
    "typedef struct Node {\n",
    "    int data;\n",
    "    // because the typedef isn't done until the end of the struct definition, we have to use \"struct Node*\" here\n",
    "    struct Node* next;\n",
    "} Node;\n",
    "\n",
    "int main()\n",
    "{\n",
    "    \n",
    "    Node* head = NULL;\n",
    "    Node* second = NULL;\n",
    "    Node* third = NULL;\n",
    " \n",
    "    //in this example we malloc three nodes to start\n",
    "    head = (Node*)malloc(sizeof( Node));\n",
    "    second = (Node*)malloc(sizeof( Node));\n",
    "    third = (Node*)malloc(sizeof( Node));\n",
    "    \n",
    "    //set the data of head to 0, second to 1, and third to 2 here\n",
    "    \n",
    "    \n",
    "    //Now we're going to traverse the Linked List node by node starting from the head\n",
    "    \n",
    "    // Create a Node pointer called temp node and set it to the head node\n",
    "\n",
    "    // Now, while the tempNode is not Null, print the data in the tempNode\n",
    "    // to continue traversing the list, once you've printed the data in tempNode, set the temp node to the next node.\n",
    "   \n",
    " \n",
    "    return 0;\n",
    "    \n",
    "\n",
    "}"
   ]
  }
 ],
 "metadata": {
  "kernelspec": {
   "display_name": "C",
   "language": "c",
   "name": "c"
  },
  "language_info": {
   "file_extension": ".c",
   "mimetype": "text/plain",
   "name": "c"
  }
 },
 "nbformat": 4,
 "nbformat_minor": 4
}
