{
 "cells": [
  {
   "cell_type": "markdown",
   "metadata": {},
   "source": [
    "# Intro To Strings\n",
    "\n",
    "Strings in C are just arrays/pointers of characters that end in a null terminator '\\0'. So we can malloc them just like we do with int pointers. Let's try that and also play around with some weird ways we can break strings."
   ]
  },
  {
   "cell_type": "code",
   "execution_count": 3,
   "metadata": {},
   "outputs": [
    {
     "name": "stdout",
     "output_type": "stream",
     "text": [
      "Jane post malloc: 0x600002d7c020\n",
      "hello\n",
      "Jane post assign: 0x102b63f96\n"
     ]
    }
   ],
   "source": [
    "#include <stdio.h>\n",
    "#include <string.h>\n",
    "#include <stdlib.h>\n",
    "\n",
    "int main(){\n",
    "\n",
    "    // just like we malloc room for an int pointer\n",
    "    // we malloc a string, just this time we use sizeof(char) since that's what we're pointing to\n",
    "    char * jane = malloc(sizeof(char) * 10);\n",
    "\n",
    "    // let's print the address Jane points to to\n",
    "    printf(\"Jane post malloc: %p\\n\", jane);\n",
    "    // notice how this looks very similar to an int *, same idea\n",
    "\n",
    "\n",
    "    // now let's assign Jane a value - the string \"hello\"\n",
    "    jane = \"hello\";\n",
    "\n",
    "    // when we print it, jane's address contains the string \"hello\"\n",
    "    printf(\"%s\\n\", jane);\n",
    "\n",
    "    // but something weird happens, Jane's address has changed.\n",
    "    printf(\"Jane post assign: %p\\n\", jane);\n",
    "\n",
    "    // When we did jane = \"hello\";\n",
    "        // Jane's address was assigned the address of that static string \"hello\"\n",
    "        // instead of taking the value \"hello\" and putting it at Jane's original address\n",
    "        // to learn how to give char pointers (strings) values properly \n",
    "        // after mallocing, follow the next tutorial\n",
    "\n",
    "}"
   ]
  }
 ],
 "metadata": {
  "kernelspec": {
   "display_name": "C",
   "language": "c",
   "name": "c"
  },
  "language_info": {
   "file_extension": ".c",
   "mimetype": "text/plain",
   "name": "c"
  },
  "orig_nbformat": 4
 },
 "nbformat": 4,
 "nbformat_minor": 2
}
